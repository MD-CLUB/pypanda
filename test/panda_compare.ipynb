{
 "cells": [
  {
   "cell_type": "markdown",
   "metadata": {},
   "source": [
    "# Python Panda  \n",
    "Download from: https://github.com/davidvi/pypanda"
   ]
  },
  {
   "cell_type": "code",
   "execution_count": 9,
   "metadata": {
    "collapsed": false
   },
   "outputs": [
    {
     "name": "stdout",
     "output_type": "stream",
     "text": [
      "The rpy2.ipython extension is already loaded. To reload it, use:\n",
      "  %reload_ext rpy2.ipython\n"
     ]
    }
   ],
   "source": [
    "from pypanda import panda\n",
    "from pypanda import lioness\n",
    "\n",
    "import numpy as np\n",
    "import pandas as pd\n",
    "\n",
    "import time\n",
    "import matplotlib.pyplot as plt\n",
    "from lightning import Lightning\n",
    "\n",
    "%matplotlib inline\n",
    "%load_ext rpy2.ipython"
   ]
  },
  {
   "cell_type": "markdown",
   "metadata": {},
   "source": [
    "##### Run panda"
   ]
  },
  {
   "cell_type": "code",
   "execution_count": 2,
   "metadata": {
    "collapsed": true
   },
   "outputs": [],
   "source": [
    "expression = '../ToyData/ToyExpressionData.txt'\n",
    "motif = '../ToyData/ToyMotifData.txt'\n",
    "ppi = '../ToyData/ToyPPIData.txt'"
   ]
  },
  {
   "cell_type": "markdown",
   "metadata": {},
   "source": [
    "Run and time python panda "
   ]
  },
  {
   "cell_type": "code",
   "execution_count": 8,
   "metadata": {
    "collapsed": false,
    "scrolled": true
   },
   "outputs": [
    {
     "name": "stdout",
     "output_type": "stream",
     "text": [
      "running panda took: 5.41045403481 seconds\n",
      "total running time: 5.76216316223 seconds\n"
     ]
    }
   ],
   "source": [
    "python_panda_time = time.time()\n",
    "\n",
    "p = panda(expression, motif, ppi, remove_missing=False)\n",
    "\n",
    "total_python_panda_time = time.time() - python_panda_time\n",
    "print('total running time: %s seconds' % (total_python_panda_time))"
   ]
  },
  {
   "cell_type": "markdown",
   "metadata": {},
   "source": [
    "Run and time R panda"
   ]
  },
  {
   "cell_type": "code",
   "execution_count": 5,
   "metadata": {
    "collapsed": false,
    "scrolled": true
   },
   "outputs": [
    {
     "data": {
      "text/plain": [
       "   user  system elapsed \n",
       " 17.237   1.495  19.775 \n"
      ]
     },
     "metadata": {},
     "output_type": "display_data"
    }
   ],
   "source": [
    "%%R -i expression -i motif -i ppi -o r_panda_results -o total_r_panda_time\n",
    "library(pandaR)\n",
    "ptm <- proc.time()\n",
    "mot <- read.table(file = motif, header = FALSE)\n",
    "expr <- read.table(file = expression, header = FALSE, row.names = 1)\n",
    "prot <- read.table(file = ppi, header = FALSE)\n",
    "p = panda(motif = mot, expr = expr, ppi = prot, remove.missing.ppi = TRUE, remove.missing.motif = TRUE, remove.missing.genes = TRUE)\n",
    "print(proc.time() - ptm)\n",
    "r_panda_results <- p@regNet\n",
    "t <- proc.time() - ptm\n",
    "total_r_panda_time <- t[3]"
   ]
  },
  {
   "cell_type": "markdown",
   "metadata": {
    "collapsed": false
   },
   "source": [
    "Run and time c panda"
   ]
  },
  {
   "cell_type": "code",
   "execution_count": 6,
   "metadata": {
    "collapsed": false,
    "scrolled": false
   },
   "outputs": [
    {
     "name": "stdout",
     "output_type": "stream",
     "text": [
      "Reading in data.  Note that the code only allocates space for up to 1000 Regulators, 20000 Target Genes, and 500 expression conditions.  If you have more than this you may need to alter the code to avoid a segfault.\n",
      "Reading In Expression Data!\n",
      "Num Unique Genes in Expression File:1000 (1000 total entries).\n",
      "Reading in Motif Data!\n",
      "Running PANDA using the following parameters:\n",
      "alpha=0.100000\n",
      "Data-Types Being Used include:\n",
      "Regulation Data\n",
      "Protein Interaction Data\n",
      "Expression Data\n",
      "Reading in Protein Interation Data!\n",
      "\n",
      "Network Data Stats:\n",
      "NumRegulators:87, NumGenes:1000, NumConditions:50 (50 used for Network), NumRegulatoryInteractions:14597 (14597 unique)\n",
      "\n",
      "Learning Network!\n",
      "Step#0, hamming=0.718965\n",
      "Step#1, hamming=0.389925\n",
      "Step#2, hamming=0.402366\n",
      "Step#3, hamming=0.400519\n",
      "Step#4, hamming=0.389038\n",
      "Step#5, hamming=0.370510\n",
      "Step#6, hamming=0.346812\n",
      "Step#7, hamming=0.319722\n",
      "Step#8, hamming=0.290806\n",
      "Step#9, hamming=0.261407\n",
      "Step#10, hamming=0.232567\n",
      "Step#11, hamming=0.205049\n",
      "Step#12, hamming=0.179369\n",
      "Step#13, hamming=0.155828\n",
      "Step#14, hamming=0.134564\n",
      "Step#15, hamming=0.115587\n",
      "Step#16, hamming=0.098824\n",
      "Step#17, hamming=0.084143\n",
      "Step#18, hamming=0.071379\n",
      "Step#19, hamming=0.060353\n",
      "Step#20, hamming=0.050880\n",
      "Step#21, hamming=0.042781\n",
      "Step#22, hamming=0.035885\n",
      "Step#23, hamming=0.030036\n",
      "Step#24, hamming=0.025091\n",
      "Step#25, hamming=0.020924\n",
      "Step#26, hamming=0.017420\n",
      "Step#27, hamming=0.014481\n",
      "Step#28, hamming=0.012022\n",
      "Step#29, hamming=0.009969\n",
      "Step#30, hamming=0.008256\n",
      "Step#31, hamming=0.006831\n",
      "Step#32, hamming=0.005647\n",
      "Step#33, hamming=0.004664\n",
      "Step#34, hamming=0.003849\n",
      "Step#35, hamming=0.003174\n",
      "Step#36, hamming=0.002615\n",
      "Step#37, hamming=0.002154\n",
      "Step#38, hamming=0.001773\n",
      "Step#39, hamming=0.001459\n",
      "Step#40, hamming=0.001200\n",
      "Step#41, hamming=0.000986\n",
      "total running time: 87.0400838852 seconds\n"
     ]
    }
   ],
   "source": [
    "c_panda_time = time.time()\n",
    "\n",
    "! ~/Tools/panda_c/PANDA_v2 -e '../ToyData/ToyExpressionData.txt' -m '../ToyData/ToyMotifData.txt' -p '../ToyData/ToyPPIData.txt'\n",
    "\n",
    "c_total_panda_time = time.time() - c_panda_time\n",
    "print('total running time: %s seconds' % (c_total_panda_time))"
   ]
  },
  {
   "cell_type": "markdown",
   "metadata": {
    "collapsed": true
   },
   "source": [
    "Run and time matlab panda"
   ]
  },
  {
   "cell_type": "code",
   "execution_count": 7,
   "metadata": {
    "collapsed": false,
    "scrolled": true
   },
   "outputs": [
    {
     "name": "stdout",
     "output_type": "stream",
     "text": [
      "\u001b[?1h\u001b=\n",
      "                            < M A T L A B (R) >\n",
      "                  Copyright 1984-2015 The MathWorks, Inc.\n",
      "                   R2015b (8.6.0.267246) 64-bit (maci64)\n",
      "                              August 20, 2015\n",
      "\n",
      " \n",
      "For online documentation, see http://www.mathworks.com/support\n",
      "For product information, visit www.mathworks.com.\n",
      " \n",
      "\n",
      "\tStudent License -- for use by students to meet course requirements\n",
      "\tand perform academic research at degree granting institutions only.\n",
      "\n",
      "Reading in data!\n",
      "Normalizing Networks!\n",
      "Learning Network!\n",
      "Running PANDA on 1000 Genes and 87 TFs took 3.513763 seconds!\n",
      "Elapsed time is 3.558499 seconds.\n",
      "\u001b[?1l\u001b>total running time: 8.12574291229 seconds\n"
     ]
    }
   ],
   "source": [
    "matlab_panda_time = time.time()\n",
    "\n",
    "! /Applications/MATLAB_R2015b.app/bin/matlab -nojvm -nodisplay -nosplash -r RunPANDA\n",
    "\n",
    "total_panda_matlab_time = time.time() - matlab_panda_time\n",
    "print('total running time: %s seconds' % (total_panda_matlab_time))"
   ]
  },
  {
   "cell_type": "markdown",
   "metadata": {},
   "source": [
    "##### Run lioness"
   ]
  },
  {
   "cell_type": "markdown",
   "metadata": {},
   "source": [
    "Run and time python lioness"
   ]
  },
  {
   "cell_type": "code",
   "execution_count": 4,
   "metadata": {
    "collapsed": false,
    "scrolled": false
   },
   "outputs": [
    {
     "name": "stdout",
     "output_type": "stream",
     "text": [
      "running panda took: 5.40186715126 seconds\n",
      "running panda took: 5.4144589901 seconds\n",
      "running panda took: 5.43185687065 seconds\n",
      "running panda took: 5.46617102623 seconds\n",
      "running panda took: 5.45085096359 seconds\n",
      "running panda took: 5.46951198578 seconds\n",
      "running panda took: 5.47449803352 seconds\n",
      "running panda took: 5.41802406311 seconds\n",
      "running panda took: 5.48645401001 seconds\n",
      "running panda took: 5.47578907013 seconds\n",
      "running panda took: 5.45873594284 seconds\n",
      "running panda took: 5.4064707756 seconds\n",
      "running panda took: 5.36641001701 seconds\n",
      "running panda took: 5.38865494728 seconds\n",
      "running panda took: 5.44336509705 seconds\n",
      "running panda took: 5.4565448761 seconds\n",
      "running panda took: 5.37578606606 seconds\n",
      "running panda took: 5.38322401047 seconds\n",
      "running panda took: 5.37964105606 seconds\n",
      "running panda took: 5.36775398254 seconds\n",
      "running panda took: 5.38002586365 seconds\n",
      "running panda took: 5.37032604218 seconds\n",
      "running panda took: 5.34932994843 seconds\n",
      "running panda took: 5.36512303352 seconds\n",
      "running panda took: 5.4037771225 seconds\n",
      "running panda took: 5.46568083763 seconds\n",
      "running panda took: 5.50673413277 seconds\n",
      "running panda took: 5.52876710892 seconds\n",
      "running panda took: 5.5492169857 seconds\n",
      "running panda took: 5.52200698853 seconds\n",
      "running panda took: 5.40421104431 seconds\n",
      "running panda took: 5.456802845 seconds\n",
      "running panda took: 5.66149783134 seconds\n",
      "running panda took: 5.57310795784 seconds\n",
      "running panda took: 5.52993512154 seconds\n",
      "running panda took: 5.57139396667 seconds\n",
      "running panda took: 5.49090313911 seconds\n",
      "running panda took: 5.53839111328 seconds\n",
      "running panda took: 5.50801801682 seconds\n",
      "running panda took: 5.46488618851 seconds\n",
      "running panda took: 5.5518348217 seconds\n",
      "running panda took: 5.44474601746 seconds\n",
      "running panda took: 5.50833916664 seconds\n",
      "running panda took: 5.4487349987 seconds\n",
      "running panda took: 5.44913506508 seconds\n",
      "running panda took: 5.50954604149 seconds\n",
      "running panda took: 5.48126888275 seconds\n",
      "running panda took: 5.55620312691 seconds\n",
      "running panda took: 5.47476315498 seconds\n",
      "running panda took: 5.46793723106 seconds\n",
      "running lioness took: 274.341331959 seconds\n",
      "total running time: 274.341847181 seconds\n"
     ]
    }
   ],
   "source": [
    "python_lioness_time = time.time()\n",
    "\n",
    "l = lioness(p)\n",
    "\n",
    "total_lioness_panda_time = time.time() - python_lioness_time\n",
    "print('total running time: %s seconds' % (total_lioness_panda_time))"
   ]
  },
  {
   "cell_type": "code",
   "execution_count": 5,
   "metadata": {
    "collapsed": true
   },
   "outputs": [],
   "source": [
    "l.save_lioness_results(file = 'toy_Lioness.txt')"
   ]
  },
  {
   "cell_type": "markdown",
   "metadata": {},
   "source": [
    "Run and time matlab lioness"
   ]
  },
  {
   "cell_type": "code",
   "execution_count": 6,
   "metadata": {
    "collapsed": false,
    "scrolled": false
   },
   "outputs": [
    {
     "name": "stdout",
     "output_type": "stream",
     "text": [
      "\u001b[?1h\u001b=\n",
      "                            < M A T L A B (R) >\n",
      "                  Copyright 1984-2015 The MathWorks, Inc.\n",
      "                   R2015b (8.6.0.267246) 64-bit (maci64)\n",
      "                              August 20, 2015\n",
      "\n",
      " \n",
      "For online documentation, see http://www.mathworks.com/support\n",
      "For product information, visit www.mathworks.com.\n",
      " \n",
      "\n",
      "\tStudent License -- for use by students to meet course requirements\n",
      "\tand perform academic research at degree granting institutions only.\n",
      "\n",
      "Reading in data!\n",
      "Running PANDA on 1000 Genes and 87 TFs took 1.514647 seconds!\n",
      "Running PANDA on 1000 Genes and 87 TFs took 1.479963 seconds!\n",
      "Running PANDA on 1000 Genes and 87 TFs took 1.493818 seconds!\n",
      "Running PANDA on 1000 Genes and 87 TFs took 1.483701 seconds!\n",
      "Running PANDA on 1000 Genes and 87 TFs took 1.498209 seconds!\n",
      "Running PANDA on 1000 Genes and 87 TFs took 1.480223 seconds!\n",
      "Running PANDA on 1000 Genes and 87 TFs took 1.475845 seconds!\n",
      "Running PANDA on 1000 Genes and 87 TFs took 1.483885 seconds!\n",
      "Running PANDA on 1000 Genes and 87 TFs took 1.488274 seconds!\n",
      "Running PANDA on 1000 Genes and 87 TFs took 1.477722 seconds!\n",
      "Running PANDA on 1000 Genes and 87 TFs took 1.482974 seconds!\n",
      "Running PANDA on 1000 Genes and 87 TFs took 1.499146 seconds!\n",
      "Running PANDA on 1000 Genes and 87 TFs took 1.494472 seconds!\n",
      "Running PANDA on 1000 Genes and 87 TFs took 1.481417 seconds!\n",
      "Running PANDA on 1000 Genes and 87 TFs took 1.484587 seconds!\n",
      "Running PANDA on 1000 Genes and 87 TFs took 1.510857 seconds!\n",
      "Running PANDA on 1000 Genes and 87 TFs took 1.484161 seconds!\n",
      "Running PANDA on 1000 Genes and 87 TFs took 1.787634 seconds!\n",
      "Running PANDA on 1000 Genes and 87 TFs took 1.524506 seconds!\n",
      "Running PANDA on 1000 Genes and 87 TFs took 1.690238 seconds!\n",
      "Running PANDA on 1000 Genes and 87 TFs took 1.816010 seconds!\n",
      "Running PANDA on 1000 Genes and 87 TFs took 1.738347 seconds!\n",
      "Running PANDA on 1000 Genes and 87 TFs took 1.789897 seconds!\n",
      "Running PANDA on 1000 Genes and 87 TFs took 1.663174 seconds!\n",
      "Running PANDA on 1000 Genes and 87 TFs took 1.527433 seconds!\n",
      "Running PANDA on 1000 Genes and 87 TFs took 1.586690 seconds!\n",
      "Running PANDA on 1000 Genes and 87 TFs took 1.639928 seconds!\n",
      "Running PANDA on 1000 Genes and 87 TFs took 1.766748 seconds!\n",
      "Running PANDA on 1000 Genes and 87 TFs took 1.562608 seconds!\n",
      "Running PANDA on 1000 Genes and 87 TFs took 1.529111 seconds!\n",
      "Running PANDA on 1000 Genes and 87 TFs took 1.536338 seconds!\n",
      "Running PANDA on 1000 Genes and 87 TFs took 1.503985 seconds!\n",
      "Running PANDA on 1000 Genes and 87 TFs took 1.546516 seconds!\n",
      "Running PANDA on 1000 Genes and 87 TFs took 1.538992 seconds!\n",
      "Running PANDA on 1000 Genes and 87 TFs took 1.659168 seconds!\n",
      "Running PANDA on 1000 Genes and 87 TFs took 1.630071 seconds!\n",
      "Running PANDA on 1000 Genes and 87 TFs took 1.538597 seconds!\n",
      "Running PANDA on 1000 Genes and 87 TFs took 1.562099 seconds!\n",
      "Running PANDA on 1000 Genes and 87 TFs took 1.519824 seconds!\n",
      "Running PANDA on 1000 Genes and 87 TFs took 1.543859 seconds!\n",
      "Running PANDA on 1000 Genes and 87 TFs took 1.523986 seconds!\n",
      "Running PANDA on 1000 Genes and 87 TFs took 1.518751 seconds!\n",
      "Running PANDA on 1000 Genes and 87 TFs took 1.530774 seconds!\n",
      "Running PANDA on 1000 Genes and 87 TFs took 1.509610 seconds!\n",
      "Running PANDA on 1000 Genes and 87 TFs took 1.535609 seconds!\n",
      "Running PANDA on 1000 Genes and 87 TFs took 1.505547 seconds!\n",
      "Running PANDA on 1000 Genes and 87 TFs took 1.510834 seconds!\n",
      "Running PANDA on 1000 Genes and 87 TFs took 1.518251 seconds!\n",
      "Running PANDA on 1000 Genes and 87 TFs took 1.510368 seconds!\n",
      "Running PANDA on 1000 Genes and 87 TFs took 1.527226 seconds!\n",
      "Running PANDA on 1000 Genes and 87 TFs took 1.505836 seconds!\n",
      "Elapsed time is 6.513676 seconds.\n",
      "\u001b[?1l\u001b>total running time: 91.2185099125 seconds\n"
     ]
    }
   ],
   "source": [
    "matlab_lioness_time = time.time()\n",
    "\n",
    "! /Applications/MATLAB_R2015b.app/bin/matlab -nojvm -nodisplay -nosplash -r RunLIONESS\n",
    "\n",
    "total_lioness_matlab_time = time.time() - matlab_lioness_time\n",
    "print('total running time: %s seconds' % (total_lioness_matlab_time))"
   ]
  },
  {
   "cell_type": "markdown",
   "metadata": {},
   "source": [
    "##### Summary runtimes\n"
   ]
  },
  {
   "cell_type": "markdown",
   "metadata": {},
   "source": [
    "panda"
   ]
  },
  {
   "cell_type": "code",
   "execution_count": 14,
   "metadata": {
    "collapsed": false
   },
   "outputs": [
    {
     "data": {
      "image/png": "[encoded data removed]",
      "text/plain": [
       "<matplotlib.figure.Figure at 0x10f631750>"
      ]
     },
     "metadata": {},
     "output_type": "display_data"
    }
   ],
   "source": [
    "panda_run_times = (total_python_panda_time, total_r_panda_time[0], c_total_panda_time, total_panda_matlab_time)\n",
    "panda_labels = ('python', 'r', 'c', 'matlab')\n",
    "ind = np.arange(4)\n",
    "width = 0.35\n",
    "fig, ax = plt.subplots()\n",
    "rects = ax.bar(ind, panda_run_times, width, color='r')\n",
    "ax.set_ylabel('Run Time (sec)')\n",
    "ax.set_xticks(ind+(width/2))\n",
    "ax.set_xticklabels(panda_labels)\n",
    "plt.show()"
   ]
  },
  {
   "cell_type": "code",
   "execution_count": 7,
   "metadata": {
    "collapsed": false
   },
   "outputs": [
    {
     "data": {
      "image/png": "[encoded data removed]",
      "text/plain": [
       "<matplotlib.figure.Figure at 0x1142cd490>"
      ]
     },
     "metadata": {},
     "output_type": "display_data"
    }
   ],
   "source": [
    "lioness_run_times = (total_lioness_panda_time, total_lioness_matlab_time)\n",
    "lioness_labels = ('python', 'matlab')\n",
    "ind = np.arange(2)\n",
    "width = 0.35\n",
    "fig, ax = plt.subplots()\n",
    "rects = ax.bar(ind, lioness_run_times, width, color='r')\n",
    "ax.set_ylabel('Run Time (sec)')\n",
    "ax.set_xticks(ind+(width/2))\n",
    "ax.set_xticklabels(lioness_labels)\n",
    "plt.show()"
   ]
  },
  {
   "cell_type": "markdown",
   "metadata": {},
   "source": [
    "##### Features"
   ]
  },
  {
   "cell_type": "code",
   "execution_count": 12,
   "metadata": {
    "collapsed": false,
    "scrolled": true
   },
   "outputs": [
    {
     "data": {
      "text/html": [
       "<div>\n",
       "<table border=\"1\" class=\"dataframe\">\n",
       "  <thead>\n",
       "    <tr style=\"text-align: right;\">\n",
       "      <th></th>\n",
       "      <th>force</th>\n",
       "    </tr>\n",
       "    <tr>\n",
       "      <th>gene</th>\n",
       "      <th></th>\n",
       "    </tr>\n",
       "  </thead>\n",
       "  <tbody>\n",
       "    <tr>\n",
       "      <th>41157</th>\n",
       "      <td>1.139713</td>\n",
       "    </tr>\n",
       "    <tr>\n",
       "      <th>AACSL</th>\n",
       "      <td>-5.090725</td>\n",
       "    </tr>\n",
       "    <tr>\n",
       "      <th>AAK1</th>\n",
       "      <td>-10.923515</td>\n",
       "    </tr>\n",
       "    <tr>\n",
       "      <th>ABCA17P</th>\n",
       "      <td>-8.919393</td>\n",
       "    </tr>\n",
       "    <tr>\n",
       "      <th>ABCB8</th>\n",
       "      <td>9.091765</td>\n",
       "    </tr>\n",
       "  </tbody>\n",
       "</table>\n",
       "</div>"
      ],
      "text/plain": [
       "             force\n",
       "gene              \n",
       "41157     1.139713\n",
       "AACSL    -5.090725\n",
       "AAK1    -10.923515\n",
       "ABCA17P  -8.919393\n",
       "ABCB8     9.091765"
      ]
     },
     "execution_count": 12,
     "metadata": {},
     "output_type": "execute_result"
    }
   ],
   "source": [
    "panda_indegree = p.return_panda_indegree()\n",
    "panda_indegree.head()"
   ]
  },
  {
   "cell_type": "code",
   "execution_count": 13,
   "metadata": {
    "collapsed": false
   },
   "outputs": [
    {
     "data": {
      "text/html": [
       "<div>\n",
       "<table border=\"1\" class=\"dataframe\">\n",
       "  <thead>\n",
       "    <tr style=\"text-align: right;\">\n",
       "      <th></th>\n",
       "      <th>force</th>\n",
       "    </tr>\n",
       "    <tr>\n",
       "      <th>tf</th>\n",
       "      <th></th>\n",
       "    </tr>\n",
       "  </thead>\n",
       "  <tbody>\n",
       "    <tr>\n",
       "      <th>AHR</th>\n",
       "      <td>1030.068405</td>\n",
       "    </tr>\n",
       "    <tr>\n",
       "      <th>AR</th>\n",
       "      <td>-731.315760</td>\n",
       "    </tr>\n",
       "    <tr>\n",
       "      <th>ARID3A</th>\n",
       "      <td>1274.524235</td>\n",
       "    </tr>\n",
       "    <tr>\n",
       "      <th>ARNT</th>\n",
       "      <td>1590.039789</td>\n",
       "    </tr>\n",
       "    <tr>\n",
       "      <th>BRCA1</th>\n",
       "      <td>833.289410</td>\n",
       "    </tr>\n",
       "  </tbody>\n",
       "</table>\n",
       "</div>"
      ],
      "text/plain": [
       "              force\n",
       "tf                 \n",
       "AHR     1030.068405\n",
       "AR      -731.315760\n",
       "ARID3A  1274.524235\n",
       "ARNT    1590.039789\n",
       "BRCA1    833.289410"
      ]
     },
     "execution_count": 13,
     "metadata": {},
     "output_type": "execute_result"
    }
   ],
   "source": [
    "panda_outdegree = p.return_panda_outdegree()\n",
    "panda_outdegree.head()"
   ]
  },
  {
   "cell_type": "code",
   "execution_count": null,
   "metadata": {
    "collapsed": false
   },
   "outputs": [],
   "source": []
  },
  {
   "cell_type": "code",
   "execution_count": null,
   "metadata": {
    "collapsed": true
   },
   "outputs": [],
   "source": []
  }
 ],
 "metadata": {
  "kernelspec": {
   "display_name": "Python 2",
   "language": "python",
   "name": "python2"
  },
  "language_info": {
   "codemirror_mode": {
    "name": "ipython",
    "version": 2
   },
   "file_extension": ".py",
   "mimetype": "text/x-python",
   "name": "python",
   "nbconvert_exporter": "python",
   "pygments_lexer": "ipython2",
   "version": "2.7.10"
  }
 },
 "nbformat": 4,
 "nbformat_minor": 0
}

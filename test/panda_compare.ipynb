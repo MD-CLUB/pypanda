{
 "cells": [
  {
   "cell_type": "markdown",
   "metadata": {},
   "source": [
    "# Python Panda  \n",
    "Download from: https://github.com/davidvi/pypanda"
   ]
  },
  {
   "cell_type": "code",
   "execution_count": 5,
   "metadata": {
    "collapsed": false
   },
   "outputs": [
    {
     "name": "stdout",
     "output_type": "stream",
     "text": [
      "The rpy2.ipython extension is already loaded. To reload it, use:\n",
      "  %reload_ext rpy2.ipython\n"
     ]
    }
   ],
   "source": [
    "from pypanda import Panda\n",
    "from pypanda import Lioness\n",
    "from pypanda import AnalyzePanda\n",
    "\n",
    "import numpy as np\n",
    "import pandas as pd\n",
    "\n",
    "import time\n",
    "import matplotlib.pyplot as plt\n",
    "from lightning import Lightning\n",
    "import networkx as nx\n",
    "\n",
    "%matplotlib inline\n",
    "%load_ext rpy2.ipython"
   ]
  },
  {
   "cell_type": "markdown",
   "metadata": {},
   "source": [
    "##### Run panda"
   ]
  },
  {
   "cell_type": "code",
   "execution_count": 6,
   "metadata": {
    "collapsed": true
   },
   "outputs": [],
   "source": [
    "expression = '../ToyData/ToyExpressionData.txt'\n",
    "motif = '../ToyData/ToyMotifData.txt'\n",
    "ppi = '../ToyData/ToyPPIData.txt'"
   ]
  },
  {
   "cell_type": "markdown",
   "metadata": {},
   "source": [
    "Run and time python panda "
   ]
  },
  {
   "cell_type": "code",
   "execution_count": 7,
   "metadata": {
    "collapsed": false,
    "scrolled": true
   },
   "outputs": [
    {
     "name": "stdout",
     "output_type": "stream",
     "text": [
      "running panda took: 5.66025304794 seconds\n",
      "total running time: 6.02892303467 seconds\n"
     ]
    }
   ],
   "source": [
    "python_panda_time = time.time()\n",
    "\n",
    "p = Panda(expression, motif, ppi, remove_missing=False)\n",
    "\n",
    "total_python_panda_time = time.time() - python_panda_time\n",
    "print('total running time: %s seconds' % (total_python_panda_time))"
   ]
  },
  {
   "cell_type": "markdown",
   "metadata": {},
   "source": [
    "Run and time R panda"
   ]
  },
  {
   "cell_type": "code",
   "execution_count": 8,
   "metadata": {
    "collapsed": false,
    "scrolled": true
   },
   "outputs": [
    {
     "data": {
      "text/plain": [
       "   user  system elapsed \n",
       " 11.631   1.161  12.806 \n"
      ]
     },
     "metadata": {},
     "output_type": "display_data"
    }
   ],
   "source": [
    "%%R -i expression -i motif -i ppi -o r_panda_results -o total_r_panda_time\n",
    "library(pandaR)\n",
    "ptm <- proc.time()\n",
    "mot <- read.table(file = motif, header = FALSE)\n",
    "expr <- read.table(file = expression, header = FALSE, row.names = 1)\n",
    "prot <- read.table(file = ppi, header = FALSE)\n",
    "p = panda(motif = mot, expr = expr, ppi = prot, remove.missing.ppi = TRUE, remove.missing.motif = TRUE, remove.missing.genes = TRUE)\n",
    "print(proc.time() - ptm)\n",
    "r_panda_results <- p@regNet\n",
    "t <- proc.time() - ptm\n",
    "total_r_panda_time <- t[3]"
   ]
  },
  {
   "cell_type": "markdown",
   "metadata": {
    "collapsed": false
   },
   "source": [
    "Run and time c panda"
   ]
  },
  {
   "cell_type": "code",
   "execution_count": 9,
   "metadata": {
    "collapsed": false,
    "scrolled": false
   },
   "outputs": [
    {
     "name": "stdout",
     "output_type": "stream",
     "text": [
      "Reading in data.  Note that the code only allocates space for up to 1000 Regulators, 20000 Target Genes, and 500 expression conditions.  If you have more than this you may need to alter the code to avoid a segfault.\n",
      "Reading In Expression Data!\n",
      "Num Unique Genes in Expression File:1000 (1000 total entries).\n",
      "Reading in Motif Data!\n",
      "Running PANDA using the following parameters:\n",
      "alpha=0.100000\n",
      "Data-Types Being Used include:\n",
      "Regulation Data\n",
      "Protein Interaction Data\n",
      "Expression Data\n",
      "Reading in Protein Interation Data!\n",
      "\n",
      "Network Data Stats:\n",
      "NumRegulators:87, NumGenes:1000, NumConditions:50 (50 used for Network), NumRegulatoryInteractions:14597 (14597 unique)\n",
      "\n",
      "Learning Network!\n",
      "Step#0, hamming=0.718965\n",
      "Step#1, hamming=0.389925\n",
      "Step#2, hamming=0.402366\n",
      "Step#3, hamming=0.400519\n",
      "Step#4, hamming=0.389038\n",
      "Step#5, hamming=0.370510\n",
      "Step#6, hamming=0.346812\n",
      "Step#7, hamming=0.319722\n",
      "Step#8, hamming=0.290806\n",
      "Step#9, hamming=0.261407\n",
      "Step#10, hamming=0.232567\n",
      "Step#11, hamming=0.205049\n",
      "Step#12, hamming=0.179369\n",
      "Step#13, hamming=0.155828\n",
      "Step#14, hamming=0.134564\n",
      "Step#15, hamming=0.115587\n",
      "Step#16, hamming=0.098824\n",
      "Step#17, hamming=0.084143\n",
      "Step#18, hamming=0.071379\n",
      "Step#19, hamming=0.060353\n",
      "Step#20, hamming=0.050880\n",
      "Step#21, hamming=0.042781\n",
      "Step#22, hamming=0.035885\n",
      "Step#23, hamming=0.030036\n",
      "Step#24, hamming=0.025091\n",
      "Step#25, hamming=0.020924\n",
      "Step#26, hamming=0.017420\n",
      "Step#27, hamming=0.014481\n",
      "Step#28, hamming=0.012022\n",
      "Step#29, hamming=0.009969\n",
      "Step#30, hamming=0.008256\n",
      "Step#31, hamming=0.006831\n",
      "Step#32, hamming=0.005647\n",
      "Step#33, hamming=0.004664\n",
      "Step#34, hamming=0.003849\n",
      "Step#35, hamming=0.003174\n",
      "Step#36, hamming=0.002615\n",
      "Step#37, hamming=0.002154\n",
      "Step#38, hamming=0.001773\n",
      "Step#39, hamming=0.001459\n",
      "Step#40, hamming=0.001200\n",
      "Step#41, hamming=0.000986\n",
      "total running time: 46.0873670578 seconds\n"
     ]
    }
   ],
   "source": [
    "c_panda_time = time.time()\n",
    "\n",
    "! ~/Tools/panda_c/PANDA_v2 -e '../ToyData/ToyExpressionData.txt' -m '../ToyData/ToyMotifData.txt' -p '../ToyData/ToyPPIData.txt'\n",
    "\n",
    "c_total_panda_time = time.time() - c_panda_time\n",
    "print('total running time: %s seconds' % (c_total_panda_time))"
   ]
  },
  {
   "cell_type": "markdown",
   "metadata": {
    "collapsed": true
   },
   "source": [
    "Run and time matlab panda"
   ]
  },
  {
   "cell_type": "code",
   "execution_count": 10,
   "metadata": {
    "collapsed": false,
    "scrolled": true
   },
   "outputs": [
    {
     "name": "stdout",
     "output_type": "stream",
     "text": [
      "\u001b[?1h\u001b=\n",
      "                            < M A T L A B (R) >\n",
      "                  Copyright 1984-2015 The MathWorks, Inc.\n",
      "                   R2015b (8.6.0.267246) 64-bit (maci64)\n",
      "                              August 20, 2015\n",
      "\n",
      " \n",
      "For online documentation, see http://www.mathworks.com/support\n",
      "For product information, visit www.mathworks.com.\n",
      " \n",
      "\n",
      "\tStudent License -- for use by students to meet course requirements\n",
      "\tand perform academic research at degree granting institutions only.\n",
      "\n",
      "Reading in data!\n",
      "Running PANDA on 1000 Genes and 87 TFs took 1.779932 seconds!\n",
      "Elapsed time is 4.474182 seconds.\n",
      "\u001b[?1l\u001b>total running time: 8.69571089745 seconds\n"
     ]
    }
   ],
   "source": [
    "matlab_panda_time = time.time()\n",
    "\n",
    "! /Applications/MATLAB_R2015b.app/bin/matlab -nojvm -nodisplay -nosplash -r RunPANDA\n",
    "\n",
    "total_panda_matlab_time = time.time() - matlab_panda_time\n",
    "print('total running time: %s seconds' % (total_panda_matlab_time))"
   ]
  },
  {
   "cell_type": "markdown",
   "metadata": {},
   "source": [
    "##### Run lioness"
   ]
  },
  {
   "cell_type": "markdown",
   "metadata": {},
   "source": [
    "Run and time python lioness"
   ]
  },
  {
   "cell_type": "code",
   "execution_count": 11,
   "metadata": {
    "collapsed": false,
    "scrolled": false
   },
   "outputs": [
    {
     "name": "stdout",
     "output_type": "stream",
     "text": [
      "running panda took: 6.0798368454 seconds\n",
      "running panda took: 5.97938084602 seconds\n",
      "running panda took: 5.71362781525 seconds\n",
      "running panda took: 5.84570503235 seconds\n",
      "running panda took: 6.17608189583 seconds\n",
      "running panda took: 6.17866492271 seconds\n",
      "running panda took: 6.12566494942 seconds\n",
      "running panda took: 5.68770503998 seconds\n",
      "running panda took: 5.68084597588 seconds\n",
      "running panda took: 6.26386809349 seconds\n",
      "running panda took: 6.04214096069 seconds\n",
      "running panda took: 5.8765501976 seconds\n",
      "running panda took: 5.71562409401 seconds\n",
      "running panda took: 5.87833690643 seconds\n",
      "running panda took: 5.59116601944 seconds\n",
      "running panda took: 5.55571508408 seconds\n",
      "running panda took: 5.57664299011 seconds\n",
      "running panda took: 5.57313895226 seconds\n",
      "running panda took: 5.52792692184 seconds\n",
      "running panda took: 5.52675080299 seconds\n",
      "running panda took: 5.51330709457 seconds\n",
      "running panda took: 5.56113600731 seconds\n",
      "running panda took: 5.51418113708 seconds\n",
      "running panda took: 5.52996110916 seconds\n",
      "running panda took: 5.51811909676 seconds\n",
      "running panda took: 5.58169388771 seconds\n",
      "running panda took: 5.64512705803 seconds\n",
      "running panda took: 5.51411700249 seconds\n",
      "running panda took: 5.6024851799 seconds\n",
      "running panda took: 5.53763890266 seconds\n",
      "running panda took: 5.54308009148 seconds\n",
      "running panda took: 5.53359889984 seconds\n",
      "running panda took: 5.54802799225 seconds\n",
      "running panda took: 5.53430008888 seconds\n",
      "running panda took: 5.56797790527 seconds\n",
      "running panda took: 5.54633188248 seconds\n",
      "running panda took: 5.63311195374 seconds\n",
      "running panda took: 5.5537879467 seconds\n",
      "running panda took: 5.50634503365 seconds\n",
      "running panda took: 5.50279903412 seconds\n",
      "running panda took: 5.54979014397 seconds\n",
      "running panda took: 5.53379511833 seconds\n",
      "running panda took: 5.53429985046 seconds\n",
      "running panda took: 5.52345013618 seconds\n",
      "running panda took: 5.51989197731 seconds\n",
      "running panda took: 5.53361487389 seconds\n",
      "running panda took: 5.53245782852 seconds\n",
      "running panda took: 5.52596998215 seconds\n",
      "running panda took: 5.52671599388 seconds\n",
      "running panda took: 5.55060696602 seconds\n",
      "running lioness took: 284.369884014 seconds\n",
      "total running time: 284.370764017 seconds\n"
     ]
    }
   ],
   "source": [
    "python_lioness_time = time.time()\n",
    "\n",
    "l = Lioness(p)\n",
    "\n",
    "total_lioness_panda_time = time.time() - python_lioness_time\n",
    "print('total running time: %s seconds' % (total_lioness_panda_time))"
   ]
  },
  {
   "cell_type": "code",
   "execution_count": 12,
   "metadata": {
    "collapsed": true
   },
   "outputs": [],
   "source": [
    "l.save_lioness_results(file = 'toy_Lioness.txt')"
   ]
  },
  {
   "cell_type": "markdown",
   "metadata": {},
   "source": [
    "Run and time matlab lioness"
   ]
  },
  {
   "cell_type": "code",
   "execution_count": 13,
   "metadata": {
    "collapsed": false,
    "scrolled": false
   },
   "outputs": [
    {
     "name": "stdout",
     "output_type": "stream",
     "text": [
      "\u001b[?1h\u001b=\n",
      "                            < M A T L A B (R) >\n",
      "                  Copyright 1984-2015 The MathWorks, Inc.\n",
      "                   R2015b (8.6.0.267246) 64-bit (maci64)\n",
      "                              August 20, 2015\n",
      "\n",
      " \n",
      "For online documentation, see http://www.mathworks.com/support\n",
      "For product information, visit www.mathworks.com.\n",
      " \n",
      "\n",
      "\tStudent License -- for use by students to meet course requirements\n",
      "\tand perform academic research at degree granting institutions only.\n",
      "\n",
      "Reading in data!\n",
      "Running PANDA on 1000 Genes and 87 TFs took 1.710175 seconds!\n",
      "Running PANDA on 1000 Genes and 87 TFs took 1.735286 seconds!\n",
      "Running PANDA on 1000 Genes and 87 TFs took 1.729832 seconds!\n",
      "Running PANDA on 1000 Genes and 87 TFs took 1.732173 seconds!\n",
      "Running PANDA on 1000 Genes and 87 TFs took 1.713321 seconds!\n",
      "Running PANDA on 1000 Genes and 87 TFs took 1.706339 seconds!\n",
      "Running PANDA on 1000 Genes and 87 TFs took 1.711098 seconds!\n",
      "Running PANDA on 1000 Genes and 87 TFs took 1.733539 seconds!\n",
      "Running PANDA on 1000 Genes and 87 TFs took 1.718177 seconds!\n",
      "Running PANDA on 1000 Genes and 87 TFs took 1.920470 seconds!\n",
      "Running PANDA on 1000 Genes and 87 TFs took 1.774928 seconds!\n",
      "Running PANDA on 1000 Genes and 87 TFs took 1.721691 seconds!\n",
      "Running PANDA on 1000 Genes and 87 TFs took 2.089114 seconds!\n",
      "Running PANDA on 1000 Genes and 87 TFs took 1.730195 seconds!\n",
      "Running PANDA on 1000 Genes and 87 TFs took 1.878011 seconds!\n",
      "Running PANDA on 1000 Genes and 87 TFs took 1.973685 seconds!\n",
      "Running PANDA on 1000 Genes and 87 TFs took 2.079053 seconds!\n",
      "Running PANDA on 1000 Genes and 87 TFs took 1.869943 seconds!\n",
      "Running PANDA on 1000 Genes and 87 TFs took 1.875549 seconds!\n",
      "Running PANDA on 1000 Genes and 87 TFs took 1.761667 seconds!\n",
      "Running PANDA on 1000 Genes and 87 TFs took 1.734028 seconds!\n",
      "Running PANDA on 1000 Genes and 87 TFs took 1.711742 seconds!\n",
      "Running PANDA on 1000 Genes and 87 TFs took 1.722767 seconds!\n",
      "Running PANDA on 1000 Genes and 87 TFs took 1.709548 seconds!\n",
      "Running PANDA on 1000 Genes and 87 TFs took 1.716696 seconds!\n",
      "Running PANDA on 1000 Genes and 87 TFs took 1.715192 seconds!\n",
      "Running PANDA on 1000 Genes and 87 TFs took 1.713531 seconds!\n",
      "Running PANDA on 1000 Genes and 87 TFs took 1.712947 seconds!\n",
      "Running PANDA on 1000 Genes and 87 TFs took 1.719443 seconds!\n",
      "Running PANDA on 1000 Genes and 87 TFs took 1.712983 seconds!\n",
      "Running PANDA on 1000 Genes and 87 TFs took 1.802313 seconds!\n",
      "Running PANDA on 1000 Genes and 87 TFs took 1.816738 seconds!\n",
      "Running PANDA on 1000 Genes and 87 TFs took 1.741880 seconds!\n",
      "Running PANDA on 1000 Genes and 87 TFs took 1.728708 seconds!\n",
      "Running PANDA on 1000 Genes and 87 TFs took 1.922117 seconds!\n",
      "Running PANDA on 1000 Genes and 87 TFs took 1.915115 seconds!\n",
      "Running PANDA on 1000 Genes and 87 TFs took 1.881845 seconds!\n",
      "Running PANDA on 1000 Genes and 87 TFs took 2.068419 seconds!\n",
      "Running PANDA on 1000 Genes and 87 TFs took 2.113104 seconds!\n",
      "Running PANDA on 1000 Genes and 87 TFs took 1.880141 seconds!\n",
      "Running PANDA on 1000 Genes and 87 TFs took 1.934829 seconds!\n",
      "Running PANDA on 1000 Genes and 87 TFs took 1.765920 seconds!\n",
      "Running PANDA on 1000 Genes and 87 TFs took 1.817046 seconds!\n",
      "Running PANDA on 1000 Genes and 87 TFs took 1.782890 seconds!\n",
      "Running PANDA on 1000 Genes and 87 TFs took 1.858337 seconds!\n",
      "Running PANDA on 1000 Genes and 87 TFs took 1.761495 seconds!\n",
      "Running PANDA on 1000 Genes and 87 TFs took 1.731416 seconds!\n",
      "Running PANDA on 1000 Genes and 87 TFs took 1.731321 seconds!\n",
      "Running PANDA on 1000 Genes and 87 TFs took 1.837850 seconds!\n",
      "Running PANDA on 1000 Genes and 87 TFs took 1.722575 seconds!\n",
      "Running PANDA on 1000 Genes and 87 TFs took 1.884993 seconds!\n",
      "Elapsed time is 7.250852 seconds.\n",
      "\u001b[?1l\u001b>total running time: 104.69700098 seconds\n"
     ]
    }
   ],
   "source": [
    "matlab_lioness_time = time.time()\n",
    "\n",
    "! /Applications/MATLAB_R2015b.app/bin/matlab -nojvm -nodisplay -nosplash -r RunLIONESS\n",
    "\n",
    "total_lioness_matlab_time = time.time() - matlab_lioness_time\n",
    "print('total running time: %s seconds' % (total_lioness_matlab_time))"
   ]
  },
  {
   "cell_type": "markdown",
   "metadata": {},
   "source": [
    "##### Summary runtimes\n"
   ]
  },
  {
   "cell_type": "markdown",
   "metadata": {},
   "source": [
    "panda"
   ]
  },
  {
   "cell_type": "code",
   "execution_count": 14,
   "metadata": {
    "collapsed": false
   },
   "outputs": [
    {
     "data": {
      "image/png": "[encoded data removed]",
      "text/plain": [
       "<matplotlib.figure.Figure at 0x1198d31d0>"
      ]
     },
     "metadata": {},
     "output_type": "display_data"
    }
   ],
   "source": [
    "panda_run_times = (total_python_panda_time, total_r_panda_time[0], c_total_panda_time, total_panda_matlab_time)\n",
    "panda_labels = ('python', 'r', 'c', 'matlab')\n",
    "ind = np.arange(4)\n",
    "width = 0.35\n",
    "fig, ax = plt.subplots()\n",
    "rects = ax.bar(ind, panda_run_times, width, color='r')\n",
    "ax.set_ylabel('Run Time (sec)')\n",
    "ax.set_xticks(ind+(width/2))\n",
    "ax.set_xticklabels(panda_labels)\n",
    "plt.show()"
   ]
  },
  {
   "cell_type": "code",
   "execution_count": 15,
   "metadata": {
    "collapsed": false
   },
   "outputs": [
    {
     "data": {
      "image/png": "[encoded data removed]",
      "text/plain": [
       "<matplotlib.figure.Figure at 0x112f908d0>"
      ]
     },
     "metadata": {},
     "output_type": "display_data"
    }
   ],
   "source": [
    "lioness_run_times = (total_lioness_panda_time, total_lioness_matlab_time)\n",
    "lioness_labels = ('python', 'matlab')\n",
    "ind = np.arange(2)\n",
    "width = 0.35\n",
    "fig, ax = plt.subplots()\n",
    "rects = ax.bar(ind, lioness_run_times, width, color='r')\n",
    "ax.set_ylabel('Run Time (sec)')\n",
    "ax.set_xticks(ind+(width/2))\n",
    "ax.set_xticklabels(lioness_labels)\n",
    "plt.show()"
   ]
  },
  {
   "cell_type": "markdown",
   "metadata": {},
   "source": [
    "##### Features"
   ]
  },
  {
   "cell_type": "code",
   "execution_count": 16,
   "metadata": {
    "collapsed": false,
    "scrolled": true
   },
   "outputs": [
    {
     "data": {
      "text/html": [
       "<div>\n",
       "<table border=\"1\" class=\"dataframe\">\n",
       "  <thead>\n",
       "    <tr style=\"text-align: right;\">\n",
       "      <th></th>\n",
       "      <th>force</th>\n",
       "    </tr>\n",
       "    <tr>\n",
       "      <th>gene</th>\n",
       "      <th></th>\n",
       "    </tr>\n",
       "  </thead>\n",
       "  <tbody>\n",
       "    <tr>\n",
       "      <th>41157</th>\n",
       "      <td>1.139713</td>\n",
       "    </tr>\n",
       "    <tr>\n",
       "      <th>AACSL</th>\n",
       "      <td>-5.090725</td>\n",
       "    </tr>\n",
       "    <tr>\n",
       "      <th>AAK1</th>\n",
       "      <td>-10.923515</td>\n",
       "    </tr>\n",
       "    <tr>\n",
       "      <th>ABCA17P</th>\n",
       "      <td>-8.919393</td>\n",
       "    </tr>\n",
       "    <tr>\n",
       "      <th>ABCB8</th>\n",
       "      <td>9.091765</td>\n",
       "    </tr>\n",
       "  </tbody>\n",
       "</table>\n",
       "</div>"
      ],
      "text/plain": [
       "             force\n",
       "gene              \n",
       "41157     1.139713\n",
       "AACSL    -5.090725\n",
       "AAK1    -10.923515\n",
       "ABCA17P  -8.919393\n",
       "ABCB8     9.091765"
      ]
     },
     "execution_count": 16,
     "metadata": {},
     "output_type": "execute_result"
    }
   ],
   "source": [
    "panda_indegree = p.return_panda_indegree()\n",
    "panda_indegree.head()"
   ]
  },
  {
   "cell_type": "code",
   "execution_count": 17,
   "metadata": {
    "collapsed": false
   },
   "outputs": [
    {
     "data": {
      "text/html": [
       "<div>\n",
       "<table border=\"1\" class=\"dataframe\">\n",
       "  <thead>\n",
       "    <tr style=\"text-align: right;\">\n",
       "      <th></th>\n",
       "      <th>force</th>\n",
       "    </tr>\n",
       "    <tr>\n",
       "      <th>tf</th>\n",
       "      <th></th>\n",
       "    </tr>\n",
       "  </thead>\n",
       "  <tbody>\n",
       "    <tr>\n",
       "      <th>AHR</th>\n",
       "      <td>1030.068405</td>\n",
       "    </tr>\n",
       "    <tr>\n",
       "      <th>AR</th>\n",
       "      <td>-731.315760</td>\n",
       "    </tr>\n",
       "    <tr>\n",
       "      <th>ARID3A</th>\n",
       "      <td>1274.524235</td>\n",
       "    </tr>\n",
       "    <tr>\n",
       "      <th>ARNT</th>\n",
       "      <td>1590.039789</td>\n",
       "    </tr>\n",
       "    <tr>\n",
       "      <th>BRCA1</th>\n",
       "      <td>833.289410</td>\n",
       "    </tr>\n",
       "  </tbody>\n",
       "</table>\n",
       "</div>"
      ],
      "text/plain": [
       "              force\n",
       "tf                 \n",
       "AHR     1030.068405\n",
       "AR      -731.315760\n",
       "ARID3A  1274.524235\n",
       "ARNT    1590.039789\n",
       "BRCA1    833.289410"
      ]
     },
     "execution_count": 17,
     "metadata": {},
     "output_type": "execute_result"
    }
   ],
   "source": [
    "panda_outdegree = p.return_panda_outdegree()\n",
    "panda_outdegree.head()"
   ]
  },
  {
   "cell_type": "code",
   "execution_count": 19,
   "metadata": {
    "collapsed": false
   },
   "outputs": [
    {
     "data": {
      "image/png": "[encoded data removed]",
      "text/plain": [
       "<matplotlib.figure.Figure at 0x10e7eb150>"
      ]
     },
     "metadata": {},
     "output_type": "display_data"
    }
   ],
   "source": [
    "a = AnalyzePanda(p)\n",
    "a.top_network_plot()"
   ]
  }
 ],
 "metadata": {
  "kernelspec": {
   "display_name": "Python 2",
   "language": "python",
   "name": "python2"
  },
  "language_info": {
   "codemirror_mode": {
    "name": "ipython",
    "version": 2
   },
   "file_extension": ".py",
   "mimetype": "text/x-python",
   "name": "python",
   "nbconvert_exporter": "python",
   "pygments_lexer": "ipython2",
   "version": "2.7.10"
  }
 },
 "nbformat": 4,
 "nbformat_minor": 0
}

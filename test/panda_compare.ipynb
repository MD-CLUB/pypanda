{
 "cells": [
  {
   "cell_type": "markdown",
   "metadata": {},
   "source": [
    "# PyPanda  \n",
    "Download from: https://github.com/davidvi/pypanda"
   ]
  },
  {
   "cell_type": "code",
   "execution_count": 1,
   "metadata": {
    "collapsed": true
   },
   "outputs": [],
   "source": [
    "from pypanda import panda\n",
    "from pypanda import lioness\n",
    "\n",
    "import numpy as np\n",
    "import pandas as pd\n",
    "\n",
    "import time\n",
    "import matplotlib.pyplot as plt\n",
    "\n",
    "%matplotlib inline\n",
    "%load_ext rpy2.ipython"
   ]
  },
  {
   "cell_type": "markdown",
   "metadata": {},
   "source": [
    "##### Run panda"
   ]
  },
  {
   "cell_type": "code",
   "execution_count": 2,
   "metadata": {
    "collapsed": true
   },
   "outputs": [],
   "source": [
    "expression = '../ToyData/ToyExpressionData.txt'\n",
    "motif = '../ToyData/ToyMotifData.txt'\n",
    "ppi = '../ToyData/ToyPPIData.txt'"
   ]
  },
  {
   "cell_type": "markdown",
   "metadata": {},
   "source": [
    "Run and time python panda "
   ]
  },
  {
   "cell_type": "code",
   "execution_count": 3,
   "metadata": {
    "collapsed": false,
    "scrolled": true
   },
   "outputs": [
    {
     "name": "stdout",
     "output_type": "stream",
     "text": [
      "running panda took: 9.42901802063 seconds\n",
      "total running time: 10.0658960342 seconds\n"
     ]
    }
   ],
   "source": [
    "python_panda_time = time.time()\n",
    "\n",
    "p = panda(expression, motif, ppi, remove_missing=False)\n",
    "\n",
    "total_python_panda_time = time.time() - python_panda_time\n",
    "print('total running time: %s seconds' % (total_python_panda_time))"
   ]
  },
  {
   "cell_type": "markdown",
   "metadata": {},
   "source": [
    "Run and time R panda"
   ]
  },
  {
   "cell_type": "code",
   "execution_count": 5,
   "metadata": {
    "collapsed": false,
    "scrolled": true
   },
   "outputs": [
    {
     "data": {
      "text/plain": [
       "   user  system elapsed \n",
       " 17.237   1.495  19.775 \n"
      ]
     },
     "metadata": {},
     "output_type": "display_data"
    }
   ],
   "source": [
    "%%R -i expression -i motif -i ppi -o r_panda_results -o total_r_panda_time\n",
    "library(pandaR)\n",
    "ptm <- proc.time()\n",
    "mot <- read.table(file = motif, header = FALSE)\n",
    "expr <- read.table(file = expression, header = FALSE, row.names = 1)\n",
    "prot <- read.table(file = ppi, header = FALSE)\n",
    "p = panda(motif = mot, expr = expr, ppi = prot, remove.missing.ppi = TRUE, remove.missing.motif = TRUE, remove.missing.genes = TRUE)\n",
    "print(proc.time() - ptm)\n",
    "r_panda_results <- p@regNet\n",
    "t <- proc.time() - ptm\n",
    "total_r_panda_time <- t[3]"
   ]
  },
  {
   "cell_type": "markdown",
   "metadata": {
    "collapsed": false
   },
   "source": [
    "Run and time c panda"
   ]
  },
  {
   "cell_type": "code",
   "execution_count": 6,
   "metadata": {
    "collapsed": false,
    "scrolled": false
   },
   "outputs": [
    {
     "name": "stdout",
     "output_type": "stream",
     "text": [
      "Reading in data.  Note that the code only allocates space for up to 1000 Regulators, 20000 Target Genes, and 500 expression conditions.  If you have more than this you may need to alter the code to avoid a segfault.\n",
      "Reading In Expression Data!\n",
      "Num Unique Genes in Expression File:1000 (1000 total entries).\n",
      "Reading in Motif Data!\n",
      "Running PANDA using the following parameters:\n",
      "alpha=0.100000\n",
      "Data-Types Being Used include:\n",
      "Regulation Data\n",
      "Protein Interaction Data\n",
      "Expression Data\n",
      "Reading in Protein Interation Data!\n",
      "\n",
      "Network Data Stats:\n",
      "NumRegulators:87, NumGenes:1000, NumConditions:50 (50 used for Network), NumRegulatoryInteractions:14597 (14597 unique)\n",
      "\n",
      "Learning Network!\n",
      "Step#0, hamming=0.718965\n",
      "Step#1, hamming=0.389925\n",
      "Step#2, hamming=0.402366\n",
      "Step#3, hamming=0.400519\n",
      "Step#4, hamming=0.389038\n",
      "Step#5, hamming=0.370510\n",
      "Step#6, hamming=0.346812\n",
      "Step#7, hamming=0.319722\n",
      "Step#8, hamming=0.290806\n",
      "Step#9, hamming=0.261407\n",
      "Step#10, hamming=0.232567\n",
      "Step#11, hamming=0.205049\n",
      "Step#12, hamming=0.179369\n",
      "Step#13, hamming=0.155828\n",
      "Step#14, hamming=0.134564\n",
      "Step#15, hamming=0.115587\n",
      "Step#16, hamming=0.098824\n",
      "Step#17, hamming=0.084143\n",
      "Step#18, hamming=0.071379\n",
      "Step#19, hamming=0.060353\n",
      "Step#20, hamming=0.050880\n",
      "Step#21, hamming=0.042781\n",
      "Step#22, hamming=0.035885\n",
      "Step#23, hamming=0.030036\n",
      "Step#24, hamming=0.025091\n",
      "Step#25, hamming=0.020924\n",
      "Step#26, hamming=0.017420\n",
      "Step#27, hamming=0.014481\n",
      "Step#28, hamming=0.012022\n",
      "Step#29, hamming=0.009969\n",
      "Step#30, hamming=0.008256\n",
      "Step#31, hamming=0.006831\n",
      "Step#32, hamming=0.005647\n",
      "Step#33, hamming=0.004664\n",
      "Step#34, hamming=0.003849\n",
      "Step#35, hamming=0.003174\n",
      "Step#36, hamming=0.002615\n",
      "Step#37, hamming=0.002154\n",
      "Step#38, hamming=0.001773\n",
      "Step#39, hamming=0.001459\n",
      "Step#40, hamming=0.001200\n",
      "Step#41, hamming=0.000986\n",
      "total running time: 87.0400838852 seconds\n"
     ]
    }
   ],
   "source": [
    "c_panda_time = time.time()\n",
    "\n",
    "! ~/Tools/panda_c/PANDA_v2 -e '../ToyData/ToyExpressionData.txt' -m '../ToyData/ToyMotifData.txt' -p '../ToyData/ToyPPIData.txt'\n",
    "\n",
    "c_total_panda_time = time.time() - c_panda_time\n",
    "print('total running time: %s seconds' % (c_total_panda_time))"
   ]
  },
  {
   "cell_type": "markdown",
   "metadata": {
    "collapsed": true
   },
   "source": [
    "Run and time matlab panda"
   ]
  },
  {
   "cell_type": "code",
   "execution_count": 7,
   "metadata": {
    "collapsed": false,
    "scrolled": true
   },
   "outputs": [
    {
     "name": "stdout",
     "output_type": "stream",
     "text": [
      "\u001b[?1h\u001b=\n",
      "                            < M A T L A B (R) >\n",
      "                  Copyright 1984-2015 The MathWorks, Inc.\n",
      "                   R2015b (8.6.0.267246) 64-bit (maci64)\n",
      "                              August 20, 2015\n",
      "\n",
      " \n",
      "For online documentation, see http://www.mathworks.com/support\n",
      "For product information, visit www.mathworks.com.\n",
      " \n",
      "\n",
      "\tStudent License -- for use by students to meet course requirements\n",
      "\tand perform academic research at degree granting institutions only.\n",
      "\n",
      "Reading in data!\n",
      "Normalizing Networks!\n",
      "Learning Network!\n",
      "Running PANDA on 1000 Genes and 87 TFs took 3.513763 seconds!\n",
      "Elapsed time is 3.558499 seconds.\n",
      "\u001b[?1l\u001b>total running time: 8.12574291229 seconds\n"
     ]
    }
   ],
   "source": [
    "matlab_panda_time = time.time()\n",
    "\n",
    "! /Applications/MATLAB_R2015b.app/bin/matlab -nojvm -nodisplay -nosplash -r RunPANDA\n",
    "\n",
    "total_panda_matlab_time = time.time() - matlab_panda_time\n",
    "print('total running time: %s seconds' % (total_panda_matlab_time))"
   ]
  },
  {
   "cell_type": "markdown",
   "metadata": {},
   "source": [
    "##### Run lioness"
   ]
  },
  {
   "cell_type": "markdown",
   "metadata": {},
   "source": [
    "Run and time python lioness"
   ]
  },
  {
   "cell_type": "code",
   "execution_count": 8,
   "metadata": {
    "collapsed": false,
    "scrolled": false
   },
   "outputs": [
    {
     "name": "stdout",
     "output_type": "stream",
     "text": [
      "running panda took: 8.83317804337 seconds\n",
      "running panda took: 8.54226589203 seconds\n",
      "running panda took: 8.26076197624 seconds\n",
      "running panda took: 8.01580786705 seconds\n",
      "running panda took: 8.09182620049 seconds\n",
      "running panda took: 8.6461789608 seconds\n",
      "running panda took: 9.6708240509 seconds\n",
      "running panda took: 9.54023504257 seconds\n",
      "running panda took: 9.14439296722 seconds\n",
      "running panda took: 8.84200406075 seconds\n",
      "running panda took: 8.93076395988 seconds\n",
      "running panda took: 7.96000885963 seconds\n",
      "running panda took: 8.22886180878 seconds\n",
      "running panda took: 8.84245085716 seconds\n",
      "running panda took: 7.99313187599 seconds\n",
      "running panda took: 8.48212099075 seconds\n",
      "running panda took: 8.65416097641 seconds\n",
      "running panda took: 7.95012187958 seconds\n",
      "running panda took: 8.92342090607 seconds\n",
      "running panda took: 8.38248300552 seconds\n",
      "running panda took: 8.19694590569 seconds\n",
      "running panda took: 8.12001395226 seconds\n",
      "running panda took: 9.01499819756 seconds\n",
      "running panda took: 8.41878294945 seconds\n",
      "running panda took: 7.98760414124 seconds\n",
      "running panda took: 7.89447116852 seconds\n",
      "running panda took: 7.75863695145 seconds\n",
      "running panda took: 7.83488202095 seconds\n",
      "running panda took: 8.58810591698 seconds\n",
      "running panda took: 7.92256188393 seconds\n",
      "running panda took: 8.76068115234 seconds\n",
      "running panda took: 9.12227702141 seconds\n",
      "running panda took: 7.7957470417 seconds\n",
      "running panda took: 7.84134602547 seconds\n",
      "running panda took: 7.987596035 seconds\n",
      "running panda took: 9.78543901443 seconds\n",
      "running panda took: 7.79248189926 seconds\n",
      "running panda took: 7.84910082817 seconds\n",
      "running panda took: 7.86764597893 seconds\n",
      "running panda took: 7.85446500778 seconds\n",
      "running panda took: 8.83832716942 seconds\n",
      "running panda took: 8.84120702744 seconds\n",
      "running panda took: 8.18660497665 seconds\n",
      "running panda took: 8.08290410042 seconds\n",
      "running panda took: 8.13859391212 seconds\n",
      "running panda took: 7.97468090057 seconds\n",
      "running panda took: 7.72267889977 seconds\n",
      "running panda took: 7.89957594872 seconds\n",
      "running panda took: 8.59258008003 seconds\n",
      "running panda took: 7.84228014946 seconds\n",
      "running lioness took: 420.520452023 seconds\n",
      "total running time: 420.524782181 seconds\n"
     ]
    }
   ],
   "source": [
    "python_lioness_time = time.time()\n",
    "\n",
    "l = lioness(p)\n",
    "\n",
    "total_lioness_panda_time = time.time() - python_lioness_time\n",
    "print('total running time: %s seconds' % (total_lioness_panda_time))"
   ]
  },
  {
   "cell_type": "markdown",
   "metadata": {},
   "source": [
    "Run and time matlab lioness"
   ]
  },
  {
   "cell_type": "code",
   "execution_count": 9,
   "metadata": {
    "collapsed": false,
    "scrolled": false
   },
   "outputs": [
    {
     "name": "stdout",
     "output_type": "stream",
     "text": [
      "\u001b[?1h\u001b=\n",
      "                            < M A T L A B (R) >\n",
      "                  Copyright 1984-2015 The MathWorks, Inc.\n",
      "                   R2015b (8.6.0.267246) 64-bit (maci64)\n",
      "                              August 20, 2015\n",
      "\n",
      " \n",
      "For online documentation, see http://www.mathworks.com/support\n",
      "For product information, visit www.mathworks.com.\n",
      " \n",
      "\n",
      "\tStudent License -- for use by students to meet course requirements\n",
      "\tand perform academic research at degree granting institutions only.\n",
      "\n",
      "Reading in data!\n",
      "Normalizing Networks!\n",
      "Learning Network!\n",
      "Running PANDA on 1000 Genes and 87 TFs took 3.147418 seconds!\n",
      "Normalizing Networks!\n",
      "Learning Network!\n",
      "Running PANDA on 1000 Genes and 87 TFs took 2.918181 seconds!\n",
      "Normalizing Networks!\n",
      "Learning Network!\n",
      "Running PANDA on 1000 Genes and 87 TFs took 2.851321 seconds!\n",
      "Normalizing Networks!\n",
      "Learning Network!\n",
      "Running PANDA on 1000 Genes and 87 TFs took 2.958177 seconds!\n",
      "Normalizing Networks!\n",
      "Learning Network!\n",
      "Running PANDA on 1000 Genes and 87 TFs took 3.396029 seconds!\n",
      "Normalizing Networks!\n",
      "Learning Network!\n",
      "Running PANDA on 1000 Genes and 87 TFs took 2.919573 seconds!\n",
      "Normalizing Networks!\n",
      "Learning Network!\n",
      "Running PANDA on 1000 Genes and 87 TFs took 3.899613 seconds!\n",
      "Normalizing Networks!\n",
      "Learning Network!\n",
      "Running PANDA on 1000 Genes and 87 TFs took 3.107234 seconds!\n",
      "Normalizing Networks!\n",
      "Learning Network!\n",
      "Running PANDA on 1000 Genes and 87 TFs took 3.000547 seconds!\n",
      "Normalizing Networks!\n",
      "Learning Network!\n",
      "Running PANDA on 1000 Genes and 87 TFs took 3.498410 seconds!\n",
      "Normalizing Networks!\n",
      "Learning Network!\n",
      "Running PANDA on 1000 Genes and 87 TFs took 3.035314 seconds!\n",
      "Normalizing Networks!\n",
      "Learning Network!\n",
      "Running PANDA on 1000 Genes and 87 TFs took 2.918351 seconds!\n",
      "Normalizing Networks!\n",
      "Learning Network!\n",
      "Running PANDA on 1000 Genes and 87 TFs took 3.622589 seconds!\n",
      "Normalizing Networks!\n",
      "Learning Network!\n",
      "Running PANDA on 1000 Genes and 87 TFs took 3.505874 seconds!\n",
      "Normalizing Networks!\n",
      "Learning Network!\n",
      "Running PANDA on 1000 Genes and 87 TFs took 4.442222 seconds!\n",
      "Normalizing Networks!\n",
      "Learning Network!\n",
      "Running PANDA on 1000 Genes and 87 TFs took 2.979910 seconds!\n",
      "Normalizing Networks!\n",
      "Learning Network!\n",
      "Running PANDA on 1000 Genes and 87 TFs took 3.136308 seconds!\n",
      "Normalizing Networks!\n",
      "Learning Network!\n",
      "Running PANDA on 1000 Genes and 87 TFs took 5.094317 seconds!\n",
      "Normalizing Networks!\n",
      "Learning Network!\n",
      "Running PANDA on 1000 Genes and 87 TFs took 3.908882 seconds!\n",
      "Normalizing Networks!\n",
      "Learning Network!\n",
      "Running PANDA on 1000 Genes and 87 TFs took 4.338791 seconds!\n",
      "Normalizing Networks!\n",
      "Learning Network!\n",
      "Running PANDA on 1000 Genes and 87 TFs took 4.485441 seconds!\n",
      "Normalizing Networks!\n",
      "Learning Network!\n",
      "Running PANDA on 1000 Genes and 87 TFs took 3.918953 seconds!\n",
      "Normalizing Networks!\n",
      "Learning Network!\n",
      "Running PANDA on 1000 Genes and 87 TFs took 3.644297 seconds!\n",
      "Normalizing Networks!\n",
      "Learning Network!\n",
      "Running PANDA on 1000 Genes and 87 TFs took 2.880244 seconds!\n",
      "Normalizing Networks!\n",
      "Learning Network!\n",
      "Running PANDA on 1000 Genes and 87 TFs took 2.946266 seconds!\n",
      "Normalizing Networks!\n",
      "Learning Network!\n",
      "Running PANDA on 1000 Genes and 87 TFs took 3.312069 seconds!\n",
      "Normalizing Networks!\n",
      "Learning Network!\n",
      "Running PANDA on 1000 Genes and 87 TFs took 3.139838 seconds!\n",
      "Normalizing Networks!\n",
      "Learning Network!\n",
      "Running PANDA on 1000 Genes and 87 TFs took 3.785077 seconds!\n",
      "Normalizing Networks!\n",
      "Learning Network!\n",
      "Running PANDA on 1000 Genes and 87 TFs took 4.126820 seconds!\n",
      "Normalizing Networks!\n",
      "Learning Network!\n",
      "Running PANDA on 1000 Genes and 87 TFs took 3.780442 seconds!\n",
      "Normalizing Networks!\n",
      "Learning Network!\n",
      "Running PANDA on 1000 Genes and 87 TFs took 4.667319 seconds!\n",
      "Normalizing Networks!\n",
      "Learning Network!\n",
      "Running PANDA on 1000 Genes and 87 TFs took 3.376434 seconds!\n",
      "Normalizing Networks!\n",
      "Learning Network!\n",
      "Running PANDA on 1000 Genes and 87 TFs took 3.921171 seconds!\n",
      "Normalizing Networks!\n",
      "Learning Network!\n",
      "Running PANDA on 1000 Genes and 87 TFs took 4.264075 seconds!\n",
      "Normalizing Networks!\n",
      "Learning Network!\n",
      "Running PANDA on 1000 Genes and 87 TFs took 4.119744 seconds!\n",
      "Normalizing Networks!\n",
      "Learning Network!\n",
      "Running PANDA on 1000 Genes and 87 TFs took 4.361271 seconds!\n",
      "Normalizing Networks!\n",
      "Learning Network!\n",
      "Running PANDA on 1000 Genes and 87 TFs took 2.873858 seconds!\n",
      "Normalizing Networks!\n",
      "Learning Network!\n",
      "Running PANDA on 1000 Genes and 87 TFs took 3.318250 seconds!\n",
      "Normalizing Networks!\n",
      "Learning Network!\n",
      "Running PANDA on 1000 Genes and 87 TFs took 3.339816 seconds!\n",
      "Normalizing Networks!\n",
      "Learning Network!\n",
      "Running PANDA on 1000 Genes and 87 TFs took 3.001869 seconds!\n",
      "Normalizing Networks!\n",
      "Learning Network!\n",
      "Running PANDA on 1000 Genes and 87 TFs took 4.286864 seconds!\n",
      "Normalizing Networks!\n",
      "Learning Network!\n",
      "Running PANDA on 1000 Genes and 87 TFs took 3.305295 seconds!\n",
      "Normalizing Networks!\n",
      "Learning Network!\n",
      "Running PANDA on 1000 Genes and 87 TFs took 2.920281 seconds!\n",
      "Normalizing Networks!\n",
      "Learning Network!\n",
      "Running PANDA on 1000 Genes and 87 TFs took 2.955940 seconds!\n",
      "Normalizing Networks!\n",
      "Learning Network!\n",
      "Running PANDA on 1000 Genes and 87 TFs took 4.125190 seconds!\n",
      "Normalizing Networks!\n",
      "Learning Network!\n",
      "Running PANDA on 1000 Genes and 87 TFs took 3.259300 seconds!\n",
      "Normalizing Networks!\n",
      "Learning Network!\n",
      "Running PANDA on 1000 Genes and 87 TFs took 4.914271 seconds!\n",
      "Normalizing Networks!\n",
      "Learning Network!\n",
      "Running PANDA on 1000 Genes and 87 TFs took 3.838550 seconds!\n",
      "Normalizing Networks!\n",
      "Learning Network!\n",
      "Running PANDA on 1000 Genes and 87 TFs took 2.883294 seconds!\n",
      "Normalizing Networks!\n",
      "Learning Network!\n",
      "Running PANDA on 1000 Genes and 87 TFs took 2.913166 seconds!\n",
      "Normalizing Networks!\n",
      "Learning Network!\n",
      "Running PANDA on 1000 Genes and 87 TFs took 3.087436 seconds!\n",
      "Elapsed time is 3.148594 seconds.\n",
      "\u001b[?1l\u001b>total running time: 191.370952845 seconds\n"
     ]
    }
   ],
   "source": [
    "matlab_lioness_time = time.time()\n",
    "\n",
    "! /Applications/MATLAB_R2015b.app/bin/matlab -nojvm -nodisplay -nosplash -r RunLIONESS\n",
    "\n",
    "total_lioness_matlab_time = time.time() - matlab_lioness_time\n",
    "print('total running time: %s seconds' % (total_lioness_matlab_time))"
   ]
  },
  {
   "cell_type": "markdown",
   "metadata": {},
   "source": [
    "##### Summary runtimes\n"
   ]
  },
  {
   "cell_type": "markdown",
   "metadata": {},
   "source": [
    "panda"
   ]
  },
  {
   "cell_type": "code",
   "execution_count": 14,
   "metadata": {
    "collapsed": false
   },
   "outputs": [
    {
     "data": {
      "image/png": "[encoded data removed]",
      "text/plain": [
       "<matplotlib.figure.Figure at 0x10f631750>"
      ]
     },
     "metadata": {},
     "output_type": "display_data"
    }
   ],
   "source": [
    "panda_run_times = (total_python_panda_time, total_r_panda_time[0], c_total_panda_time, total_panda_matlab_time)\n",
    "panda_labels = ('python', 'r', 'c', 'matlab')\n",
    "ind = np.arange(4)\n",
    "width = 0.35\n",
    "fig, ax = plt.subplots()\n",
    "rects = ax.bar(ind, panda_run_times, width, color='r')\n",
    "ax.set_ylabel('Run Time (sec)')\n",
    "ax.set_xticks(ind+(width/2))\n",
    "ax.set_xticklabels(panda_labels)\n",
    "plt.show()"
   ]
  },
  {
   "cell_type": "code",
   "execution_count": 15,
   "metadata": {
    "collapsed": false
   },
   "outputs": [
    {
     "data": {
      "image/png": "[encoded data removed]",
      "text/plain": [
       "<matplotlib.figure.Figure at 0x10fce9690>"
      ]
     },
     "metadata": {},
     "output_type": "display_data"
    }
   ],
   "source": [
    "lioness_run_times = (total_lioness_panda_time, total_lioness_matlab_time)\n",
    "lioness_labels = ('python', 'matlab')\n",
    "ind = np.arange(2)\n",
    "width = 0.35\n",
    "fig, ax = plt.subplots()\n",
    "rects = ax.bar(ind, lioness_run_times, width, color='r')\n",
    "ax.set_ylabel('Run Time (sec)')\n",
    "ax.set_xticks(ind+(width/2))\n",
    "ax.set_xticklabels(lioness_labels)\n",
    "plt.show()"
   ]
  },
  {
   "cell_type": "markdown",
   "metadata": {},
   "source": [
    "##### Features"
   ]
  },
  {
   "cell_type": "code",
   "execution_count": 12,
   "metadata": {
    "collapsed": false,
    "scrolled": true
   },
   "outputs": [
    {
     "data": {
      "text/html": [
       "<div>\n",
       "<table border=\"1\" class=\"dataframe\">\n",
       "  <thead>\n",
       "    <tr style=\"text-align: right;\">\n",
       "      <th></th>\n",
       "      <th>force</th>\n",
       "    </tr>\n",
       "    <tr>\n",
       "      <th>gene</th>\n",
       "      <th></th>\n",
       "    </tr>\n",
       "  </thead>\n",
       "  <tbody>\n",
       "    <tr>\n",
       "      <th>41157</th>\n",
       "      <td>1.139713</td>\n",
       "    </tr>\n",
       "    <tr>\n",
       "      <th>AACSL</th>\n",
       "      <td>-5.090725</td>\n",
       "    </tr>\n",
       "    <tr>\n",
       "      <th>AAK1</th>\n",
       "      <td>-10.923515</td>\n",
       "    </tr>\n",
       "    <tr>\n",
       "      <th>ABCA17P</th>\n",
       "      <td>-8.919393</td>\n",
       "    </tr>\n",
       "    <tr>\n",
       "      <th>ABCB8</th>\n",
       "      <td>9.091765</td>\n",
       "    </tr>\n",
       "  </tbody>\n",
       "</table>\n",
       "</div>"
      ],
      "text/plain": [
       "             force\n",
       "gene              \n",
       "41157     1.139713\n",
       "AACSL    -5.090725\n",
       "AAK1    -10.923515\n",
       "ABCA17P  -8.919393\n",
       "ABCB8     9.091765"
      ]
     },
     "execution_count": 12,
     "metadata": {},
     "output_type": "execute_result"
    }
   ],
   "source": [
    "panda_indegree = p.return_panda_indegree()\n",
    "panda_indegree.head()"
   ]
  },
  {
   "cell_type": "code",
   "execution_count": 13,
   "metadata": {
    "collapsed": false
   },
   "outputs": [
    {
     "data": {
      "text/html": [
       "<div>\n",
       "<table border=\"1\" class=\"dataframe\">\n",
       "  <thead>\n",
       "    <tr style=\"text-align: right;\">\n",
       "      <th></th>\n",
       "      <th>force</th>\n",
       "    </tr>\n",
       "    <tr>\n",
       "      <th>tf</th>\n",
       "      <th></th>\n",
       "    </tr>\n",
       "  </thead>\n",
       "  <tbody>\n",
       "    <tr>\n",
       "      <th>AHR</th>\n",
       "      <td>1030.068405</td>\n",
       "    </tr>\n",
       "    <tr>\n",
       "      <th>AR</th>\n",
       "      <td>-731.315760</td>\n",
       "    </tr>\n",
       "    <tr>\n",
       "      <th>ARID3A</th>\n",
       "      <td>1274.524235</td>\n",
       "    </tr>\n",
       "    <tr>\n",
       "      <th>ARNT</th>\n",
       "      <td>1590.039789</td>\n",
       "    </tr>\n",
       "    <tr>\n",
       "      <th>BRCA1</th>\n",
       "      <td>833.289410</td>\n",
       "    </tr>\n",
       "  </tbody>\n",
       "</table>\n",
       "</div>"
      ],
      "text/plain": [
       "              force\n",
       "tf                 \n",
       "AHR     1030.068405\n",
       "AR      -731.315760\n",
       "ARID3A  1274.524235\n",
       "ARNT    1590.039789\n",
       "BRCA1    833.289410"
      ]
     },
     "execution_count": 13,
     "metadata": {},
     "output_type": "execute_result"
    }
   ],
   "source": [
    "panda_outdegree = p.return_panda_outdegree()\n",
    "panda_outdegree.head()"
   ]
  },
  {
   "cell_type": "code",
   "execution_count": null,
   "metadata": {
    "collapsed": false
   },
   "outputs": [],
   "source": []
  },
  {
   "cell_type": "code",
   "execution_count": null,
   "metadata": {
    "collapsed": true
   },
   "outputs": [],
   "source": []
  }
 ],
 "metadata": {
  "kernelspec": {
   "display_name": "Python 2",
   "language": "python",
   "name": "python2"
  },
  "language_info": {
   "codemirror_mode": {
    "name": "ipython",
    "version": 2
   },
   "file_extension": ".py",
   "mimetype": "text/x-python",
   "name": "python",
   "nbconvert_exporter": "python",
   "pygments_lexer": "ipython2",
   "version": "2.7.10"
  }
 },
 "nbformat": 4,
 "nbformat_minor": 0
}
